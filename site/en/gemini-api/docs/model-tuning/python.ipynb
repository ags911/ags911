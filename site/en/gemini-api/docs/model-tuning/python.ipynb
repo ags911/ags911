{
  "cells": [
    {
      "cell_type": "markdown",
      "metadata": {
        "id": "Tce3stUlHN0L"
      },
      "source": [
        "##### Copyright 2024 Google LLC."
      ]
    },
    {
      "cell_type": "code",
      "execution_count": 11,
      "metadata": {
        "cellView": "form",
        "id": "tuOe1ymfHZPu"
      },
      "outputs": [],
      "source": [
        "#@title Licensed under the Apache License, Version 2.0 (the \"License\");\n",
        "# you may not use this file except in compliance with the License.\n",
        "# You may obtain a copy of the License at\n",
        "#\n",
        "# https://www.apache.org/licenses/LICENSE-2.0\n",
        "#\n",
        "# Unless required by applicable law or agreed to in writing, software\n",
        "# distributed under the License is distributed on an \"AS IS\" BASIS,\n",
        "# WITHOUT WARRANTIES OR CONDITIONS OF ANY KIND, either express or implied.\n",
        "# See the License for the specific language governing permissions and\n",
        "# limitations under the License."
      ]
    },
    {
      "cell_type": "markdown",
      "metadata": {
        "id": "yeadDkMiISin"
      },
      "source": [
        "# Gemini API: Model tuning with Python"
      ]
    },
    {
      "cell_type": "markdown",
      "metadata": {
        "id": "lEXQ3OwKIa-O"
      },
      "source": [
        "<table class=\"tfo-notebook-buttons\" align=\"left\">\n",
        "  <td>\n",
        "    <a target=\"_blank\" href=\"https://ai.google.dev/gemini-api/docs/model-tuning/python\"><img src=\"https://ai.google.dev/static/site-assets/images/docs/notebook-site-button.png\" height=\"32\" width=\"32\" />View on ai.google.dev</a>\n",
        "  </td>\n",
        "    <td>\n",
        "    <a target=\"_blank\" href=\"https://colab.research.google.com/github/google/generative-ai-docs/blob/main/site/en/gemini-api/docs/model-tuning/python.ipynb\"><img src=\"https://www.tensorflow.org/images/colab_logo_32px.png\" />Run in Google Colab</a>\n",
        "  </td>\n",
        "  <td>\n",
        "    <a target=\"_blank\" href=\"https://github.com/google/generative-ai-docs/blob/main/site/en/gemini-api/docs/model-tuning/python.ipynb\"><img src=\"https://www.tensorflow.org/images/GitHub-Mark-32px.png\" />View source on GitHub</a>\n",
        "  </td>\n",
        "</table>"
      ]
    },
    {
      "cell_type": "markdown",
      "metadata": {
        "id": "Jp_CKyzxUqx6"
      },
      "source": [
        "In this notebook, you'll learn how to get started with the tuning service using the Python client library for the Gemini API. Here, you'll learn how to tune the text model behind the Gemini API's text generation service."
      ]
    },
    {
      "cell_type": "markdown",
      "metadata": {
        "id": "sOz_wyZAlCuQ"
      },
      "source": [
        "## Setup"
      ]
    },
    {
      "cell_type": "markdown",
      "metadata": {
        "id": "aHimx8NGMWDj"
      },
      "source": [
        "### Install the client library"
      ]
    },
    {
      "cell_type": "code",
      "execution_count": 12,
      "metadata": {
        "id": "cbcf72bcb56d"
      },
      "outputs": [],
      "source": [
        "!pip install -q google-generativeai"
      ]
    },
    {
      "cell_type": "markdown",
      "metadata": {
        "id": "jdIYSl2kN0cq"
      },
      "source": [
        "### Import libraries"
      ]
    },
    {
      "cell_type": "code",
      "execution_count": 13,
      "metadata": {
        "id": "8enrppafJPCX"
      },
      "outputs": [],
      "source": [
        "import google.generativeai as genai"
      ]
    },
    {
      "cell_type": "code",
      "execution_count": 14,
      "metadata": {
        "id": "lhqVUjH7ZKUi"
      },
      "outputs": [],
      "source": [
        "from google.colab import userdata\n",
        "genai.configure(api_key=userdata.get('GOOGLE_API_KEY'))"
      ]
    },
    {
      "cell_type": "markdown",
      "metadata": {
        "id": "P-MYZECwlRCq"
      },
      "source": [
        "You can check you existing tuned models with the `genai.list_tuned_model` method."
      ]
    },
    {
      "cell_type": "code",
      "execution_count": 15,
      "metadata": {
        "id": "XyWzoYFxU4r6",
        "outputId": "d3343cf3-a6ec-43ef-91c7-f0addd0e9836",
        "colab": {
          "base_uri": "https://localhost:8080/",
          "height": 108
        }
      },
      "outputs": [
        {
          "output_type": "stream",
          "name": "stdout",
          "text": [
            "tunedModels/generate-num-7238\n",
            "tunedModels/generate-num-9560\n",
            "tunedModels/resume-assessment-2895\n",
            "tunedModels/resume-assessment-4337\n",
            "tunedModels/resume-assessment-7379\n"
          ]
        }
      ],
      "source": [
        "for i, m in zip(range(5), genai.list_tuned_models()):\n",
        "  print(m.name)"
      ]
    },
    {
      "cell_type": "markdown",
      "metadata": {
        "id": "BhkXRzciv3Dp"
      },
      "source": [
        "## Create tuned model"
      ]
    },
    {
      "cell_type": "markdown",
      "metadata": {
        "id": "OO8VZYAinLWc"
      },
      "source": [
        "To create a tuned model, you need to pass your dataset to the model in the `genai.create_tuned_model` method. You can do this be directly defining the input and output values in the call or importing from a file into a dataframe to pass to the method.\n",
        "\n",
        "For this example, you will tune a model to generate the next number in the sequence. For example, if the input is `1`, the model should output `2`. If the input is `one hundred`, the output should be `one hundred one`."
      ]
    },
    {
      "cell_type": "code",
      "execution_count": 16,
      "metadata": {
        "id": "w-EBSe9wTbLB",
        "outputId": "50932106-3dd2-431f-edf4-8b61f5381ba5",
        "colab": {
          "base_uri": "https://localhost:8080/",
          "height": 253
        }
      },
      "outputs": [
        {
          "output_type": "execute_result",
          "data": {
            "text/plain": [
              "Model(name='models/gemini-1.5-flash-001-tuning',\n",
              "      base_model_id='',\n",
              "      version='001',\n",
              "      display_name='Gemini 1.5 Flash 001 Tuning',\n",
              "      description=('Version of Gemini 1.5 Flash that supports tuning, our fast and versatile '\n",
              "                   'multimodal model for scaling across diverse tasks, released in May of 2024.'),\n",
              "      input_token_limit=16384,\n",
              "      output_token_limit=8192,\n",
              "      supported_generation_methods=['generateContent', 'countTokens', 'createTunedModel'],\n",
              "      temperature=1.0,\n",
              "      max_temperature=2.0,\n",
              "      top_p=0.95,\n",
              "      top_k=64)"
            ]
          },
          "metadata": {},
          "execution_count": 16
        }
      ],
      "source": [
        "base_model = [\n",
        "    m for m in genai.list_models()\n",
        "    if \"createTunedModel\" in m.supported_generation_methods and\n",
        "    \"flash\" in m.name][0]\n",
        "base_model"
      ]
    },
    {
      "cell_type": "code",
      "source": [
        "# Synthesized training dataset for fine-tuning a candidate evaluation model.\n",
        "# IMPORTANT: This data is AI-generated and requires human review and validation\n",
        "# before use in actual fine-tuning.\n",
        "\n",
        "training_dataset = [\n",
        "\n",
        "  # Example 1: Junior Analyst vs. Junior Role (Good Match)\n",
        "  [\n",
        "    # text_input string\n",
        "    \"\"\"Job Description:\n",
        "Role: Junior Data Analyst\n",
        "Location: London, UK\n",
        "Responsibilities: Assist senior analysts in collecting and cleaning data; Generate regular reports using predefined templates; Create basic dashboards in Excel and Power BI; Perform ad-hoc data extraction using SQL; Validate data accuracy under supervision.\n",
        "Skills/Qualifications: Bachelor's degree in Statistics, Mathematics, Economics, or Computer Science; 0-1 years experience; Strong proficiency in Microsoft Excel (VLOOKUP, Pivot Tables); Basic understanding of SQL; Familiarity with Power BI or Tableau is a plus; Excellent attention to detail; Good communication skills.\n",
        "\n",
        "--- Candidate Profile ---\n",
        "[Candidate Name]\n",
        "Junior Data Analyst | London, UK | [Phone Number] | [Email Address]\n",
        "\n",
        "SUMMARY\n",
        "Recent graduate with a BSc in Statistics seeking an entry-level Data Analyst position. Eager to apply analytical skills gained through coursework and projects. Proficient in Excel and SQL, with foundational knowledge of Power BI. Highly motivated, detail-oriented, and a quick learner.\n",
        "\n",
        "EDUCATION\n",
        "Bachelor of Science (BSc) - Statistics | September 2021 – June 2024\n",
        "[University Name], London\n",
        "\n",
        "PROJECTS\n",
        "University Capstone Project - Sales Trend Analysis: Analyzed historical sales data for a mock retail company using Excel. Identified key trends using Pivot Tables and charts. Cleaned and validated data inputs. Presented findings to peers. (Excel, PowerPoint)\n",
        "SQL for Data Science Course Project: Wrote SQL queries to extract and manipulate data from a sample database containing customer and order information. Practiced joins, aggregations, and subqueries. (SQL)\n",
        "\n",
        "SKILLS\n",
        "Data Analysis: Statistical Analysis (Coursework), Data Cleaning, Reporting\n",
        "Programming/Databases: SQL (Basic), Excel (Advanced - VLOOKUP, Pivot Tables, Charts)\n",
        "Visualization: Power BI (Basic - Coursework), Excel Charts\n",
        "Other: Communication, Attention to Detail, Problem Solving (Coursework)\n",
        "\n",
        "EXPERIENCE\n",
        "(No professional experience)\n",
        "\"\"\",\n",
        "    # output string (Serialized JSON evaluation)\n",
        "    \"\"\"{\n",
        "    \"qualification_level\": \"Qualified\",\n",
        "    \"interview_likelihood_score\": \"High (8/10)\",\n",
        "    \"identified_mandatory_requirements\": [\n",
        "        \"Bachelor's degree in relevant field (Stats, Math, Econ, CS)\",\n",
        "        \"0-1 years experience\",\n",
        "        \"Strong proficiency in Microsoft Excel\",\n",
        "        \"Basic understanding of SQL\",\n",
        "        \"Excellent attention to detail\"\n",
        "    ],\n",
        "    \"identified_preferred_qualifications\": [\n",
        "        \"Familiarity with Power BI or Tableau\"\n",
        "    ],\n",
        "    \"justification_summary\": {\n",
        "        \"mandatory_requirements_met\": [\n",
        "            \"Possesses a relevant Bachelor's degree (BSc Statistics).\",\n",
        "            \"Meets experience requirement (0 years).\",\n",
        "            \"Strong Excel skills explicitly mentioned and demonstrated in project.\",\n",
        "            \"Basic SQL understanding demonstrated via course project.\",\n",
        "            \"Attention to detail listed as a skill.\"\n",
        "        ],\n",
        "        \"mandatory_requirements_missing\": [],\n",
        "        \"preferred_qualifications_present\": [\n",
        "            \"Basic familiarity with Power BI mentioned from coursework.\"\n",
        "        ],\n",
        "        \"key_strengths\": [\n",
        "            \"Relevant degree in Statistics.\",\n",
        "            \"Strong Excel skills confirmed by projects.\",\n",
        "            \"Demonstrated initiative through SQL course project.\",\n",
        "            \"Explicit mention of Power BI familiarity.\"\n",
        "        ],\n",
        "        \"potential_gaps\": [\n",
        "            \"Lacks professional work experience (expected for entry-level).\",\n",
        "            \"Power BI/Tableau skills are basic.\"\n",
        "        ]\n",
        "    }\n",
        "}\"\"\"\n",
        "  ],\n",
        "\n",
        "  # Example 2: Mid-Level Analyst vs. Marketing Analyst Role (Partial Match - Missing Marketing Tools)\n",
        "  [\n",
        "    # text_input string\n",
        "    \"\"\"Job Description:\n",
        "Role: Marketing Data Analyst\n",
        "Location: London, UK (Hybrid)\n",
        "Responsibilities: Analyze marketing campaign performance across digital channels (PPC, SEO, Social Media, Email); Track website traffic and user behavior using Google Analytics; Develop and maintain marketing dashboards (Power BI); Segment customer data for targeted campaigns; Perform A/B testing analysis; Report on ROI and key marketing KPIs.\n",
        "Skills/Qualifications: 3+ years experience in data analysis, preferably in a marketing context; Strong SQL skills; Proficiency in Google Analytics (GA4); Experience with marketing automation platforms (e.g., HubSpot, Marketo) is a plus; Advanced skills in Power BI or Tableau; Excellent analytical and communication skills.\n",
        "\n",
        "--- Candidate Profile ---\n",
        "[Candidate Name]\n",
        "Data Analyst | London, UK | [Phone Number] | [Email Address]\n",
        "\n",
        "SUMMARY\n",
        "Data Analyst with 4 years of experience specializing in financial data analysis and reporting. Proven ability to translate complex data into actionable insights using SQL, Python, and Power BI. Seeking to leverage analytical skills in a new industry. Strong problem-solving and stakeholder communication abilities.\n",
        "\n",
        "EXPERIENCE\n",
        "Data Analyst | [Financial Services Company], London | July 2020 – Present\n",
        "- Developed SQL queries to extract and aggregate data from large financial databases for regulatory reporting.\n",
        "- Built interactive Power BI dashboards to monitor portfolio performance and risk metrics, used by senior management.\n",
        "- Used Python (Pandas, NumPy) for data cleaning, transformation, and ad-hoc analysis.\n",
        "- Collaborated with finance teams to understand reporting requirements.\n",
        "Data Analyst | [Consulting Firm], London | June 2019 – July 2020\n",
        "- Supported client projects involving data migration and validation using Excel and SQL.\n",
        "- Created reports and presentations summarizing findings for clients.\n",
        "\n",
        "EDUCATION\n",
        "Master of Science (MSc) - Data Science | [University Name], UK | 2018 - 2019\n",
        "Bachelor of Arts (BA) - Economics | [University Name], UK | 2015 - 2018\n",
        "\n",
        "SKILLS\n",
        "Data Analysis: Financial Analysis, Reporting, Data Validation, KPI Monitoring (Financial)\n",
        "Programming/Databases: SQL (Advanced), Python (Pandas, NumPy), Excel (Advanced)\n",
        "Visualization: Power BI (Advanced)\n",
        "Other: Stakeholder Communication, Problem Solving\n",
        "\"\"\",\n",
        "    # output string (Serialized JSON evaluation)\n",
        "    \"\"\"{\n",
        "    \"qualification_level\": \"Potentially Qualified\",\n",
        "    \"interview_likelihood_score\": \"Medium (5/10)\",\n",
        "    \"identified_mandatory_requirements\": [\n",
        "        \"3+ years experience in data analysis\",\n",
        "        \"Strong SQL skills\",\n",
        "        \"Proficiency in Google Analytics (GA4)\",\n",
        "        \"Advanced skills in Power BI or Tableau\"\n",
        "    ],\n",
        "    \"identified_preferred_qualifications\": [\n",
        "        \"Experience in a marketing context\",\n",
        "        \"Experience with marketing automation platforms (e.g., HubSpot, Marketo)\"\n",
        "    ],\n",
        "    \"justification_summary\": {\n",
        "        \"mandatory_requirements_met\": [\n",
        "            \"Meets experience requirement (4 years).\",\n",
        "            \"Strong/Advanced SQL skills demonstrated.\",\n",
        "            \"Advanced skills in Power BI demonstrated.\"\n",
        "        ],\n",
        "        \"mandatory_requirements_missing\": [\n",
        "            \"Lacks explicitly stated experience with Google Analytics (GA4).\",\n",
        "            \"Experience is primarily in finance, not marketing context.\",\n",
        "            \"No mention of marketing automation platforms.\"\n",
        "        ],\n",
        "        \"preferred_qualifications_present\": [],\n",
        "        \"key_strengths\": [\n",
        "            \"Strong SQL and Power BI expertise.\",\n",
        "            \"Solid Python skills for data manipulation.\",\n",
        "            \"Proven experience in reporting and dashboarding.\",\n",
        "            \"Relevant Master's degree in Data Science.\"\n",
        "        ],\n",
        "        \"potential_gaps\": [\n",
        "            \"Significant gap in mandatory marketing-specific tools (Google Analytics).\",\n",
        "            \"Lack of experience in analyzing marketing campaign data (PPC, SEO, Social).\",\n",
        "            \"No experience with marketing automation platforms.\",\n",
        "            \"Domain experience is in finance, not marketing.\"\n",
        "        ]\n",
        "    }\n",
        "}\"\"\"\n",
        "  ],\n",
        "\n",
        "  # Example 3: Senior Analyst (Darren Gidado) vs. Lead Data Scientist Role (ML Focus - Good Match)\n",
        "  [\n",
        "    # text_input string\n",
        "    \"\"\"Job Description:\n",
        "Role: Lead Data Scientist (Machine Learning)\n",
        "Location: London, UK\n",
        "Responsibilities: Lead the design, development, and deployment of machine learning models to solve business problems; Mentor junior data scientists; Research and implement cutting-edge ML algorithms and techniques; Collaborate with engineering teams to integrate models into production systems; Define project requirements and success metrics; Present complex findings to technical and non-technical stakeholders.\n",
        "Skills/Qualifications: 5+ years experience in Data Science with a focus on Machine Learning; MSc or PhD in Computer Science, Statistics, or related quantitative field; Proven experience building and deploying ML models (e.g., classification, regression, clustering, NLP, recommendation systems); Strong programming skills in Python (including libraries like Scikit-learn, TensorFlow/PyTorch, Pandas, NumPy); Experience with cloud platforms (AWS, GCP, or Azure); Strong SQL skills; Excellent communication and leadership skills.\n",
        "\n",
        "--- Candidate Profile ---\n",
        "[Full text of Candidate CV (Darren Gidado) goes here...]\n",
        "\"\"\",\n",
        "    # output string (Serialized JSON evaluation)\n",
        "    \"\"\"{\n",
        "    \"qualification_level\": \"Highly Qualified\",\n",
        "    \"interview_likelihood_score\": \"High (9/10)\",\n",
        "    \"identified_mandatory_requirements\": [\n",
        "        \"5+ years experience in Data Science/Analysis with ML focus\",\n",
        "        \"Proven experience building and deploying ML models (classification, regression, NLP, recommendations mentioned)\",\n",
        "        \"Strong programming skills in Python (Scikit-learn, Pandas, NumPy mentioned)\",\n",
        "        \"Experience with cloud platforms (AWS, GCP, Azure mentioned)\",\n",
        "        \"Strong SQL skills\",\n",
        "        \"Excellent communication skills\"\n",
        "    ],\n",
        "    \"identified_preferred_qualifications\": [\n",
        "        \"MSc or PhD in relevant field\",\n",
        "        \"Experience mentoring junior team members\",\n",
        "        \"Experience with TensorFlow/PyTorch\",\n",
        "        \"Leadership skills\"\n",
        "    ],\n",
        "    \"justification_summary\": {\n",
        "        \"mandatory_requirements_met\": [\n",
        "            \"Meets 5+ years experience requirement in data roles with significant ML project work.\",\n",
        "            \"Proven experience building ML models (Airbnb predictor, Disaster Response, IBM Recommendations, Starbucks Rewards) covering prediction, classification, NLP, recommendations.\",\n",
        "            \"Strong Python skills demonstrated across CV (Pandas, NumPy, Scikit-learn, XGBoost, NLTK, Flask).\",\n",
        "            \"Experience with AWS, GCP, Azure listed under skills.\",\n",
        "            \"Strong SQL skills demonstrated through experience and certifications.\",\n",
        "            \"Excellent communication implied via stakeholder management and client work.\"\n",
        "        ],\n",
        "        \"mandatory_requirements_missing\": [],\n",
        "        \"preferred_qualifications_present\": [\n",
        "            \"Holds Data Scientist Nanodegree (relevant advanced training, though not MSc/PhD).\",\n",
        "            \"Senior Data Analyst title implies seniority, potentially some informal leadership/mentoring.\",\n",
        "            \"Experience aligns well with leadership needs (driving results, cross-functional work).\"\n",
        "        ],\n",
        "        \"key_strengths\": [\n",
        "            \"Extensive hands-on experience building diverse ML models with quantifiable results/accuracy.\",\n",
        "            \"Strong proficiency in Python and relevant ML libraries (Scikit-learn, NLP tools).\",\n",
        "            \"Experience across multiple cloud platforms.\",\n",
        "            \"Proven ability to deliver complex projects and work with stakeholders.\",\n",
        "            \"Holds relevant Nanodegrees in Data Analysis and Data Science.\"\n",
        "        ],\n",
        "        \"potential_gaps\": [\n",
        "            \"Does not hold an MSc or PhD (Nanodegrees are valuable but may not meet requirement if strictly enforced).\",\n",
        "            \"No explicit mention of TensorFlow/PyTorch.\",\n",
        "            \"Explicit mentoring/team leadership experience is not detailed, though implied by senior title.\"\n",
        "        ]\n",
        "    }\n",
        "}\"\"\"\n",
        "  ],\n",
        "\n",
        "  # Example 4: BI Developer vs. Data Analyst Role (Focus on Viz - Good Match)\n",
        "  [\n",
        "    # text_input string\n",
        "    \"\"\"Job Description:\n",
        "Role: Data Analyst (Reporting & Visualization)\n",
        "Location: Manchester, UK (Remote option)\n",
        "Responsibilities: Design, develop, and maintain insightful dashboards and reports using Tableau and Power BI; Translate business requirements into technical specifications for reports; Optimize SQL queries for report performance; Ensure data accuracy and consistency in reports; Train end-users on dashboard usage.\n",
        "Skills/Qualifications: 3+ years experience focused on BI development or data visualization; Expert-level skills in Tableau and/or Power BI; Strong SQL skills for data extraction and manipulation; Experience gathering requirements from business users; Excellent visual design and communication skills.\n",
        "\n",
        "--- Candidate Profile ---\n",
        "[Candidate Name]\n",
        "BI Developer | Manchester, UK | [Phone Number] | [Email Address]\n",
        "\n",
        "SUMMARY\n",
        "Experienced BI Developer with 4 years specializing in creating interactive dashboards and reports using Tableau and Power BI. Passionate about data visualization and enabling data-driven decisions. Strong SQL skills and experience working directly with business stakeholders to define requirements.\n",
        "\n",
        "EXPERIENCE\n",
        "BI Developer | [Retail Company], Manchester | Jan 2021 – Present\n",
        "- Developed and maintain a suite of Tableau dashboards monitoring sales, inventory, and customer behaviour, used across the company.\n",
        "- Migrated legacy reports from Excel to Power BI, improving efficiency and interactivity.\n",
        "- Wrote complex SQL queries to source data from various databases (SQL Server, Snowflake).\n",
        "- Gathered reporting requirements from marketing, sales, and operations teams.\n",
        "- Conducted training sessions for end-users on new dashboards.\n",
        "Junior BI Analyst | [Tech Startup], Manchester | Dec 2019 – Jan 2021\n",
        "- Assisted senior developers in building Tableau dashboards.\n",
        "- Performed data validation and testing for reports.\n",
        "- Handled ad-hoc data requests using SQL.\n",
        "\n",
        "EDUCATION\n",
        "Bachelor of Science (BSc) - Business Information Systems | [University Name], UK | 2016 - 2019\n",
        "\n",
        "SKILLS\n",
        "Visualization: Tableau (Expert), Power BI (Advanced)\n",
        "Databases: SQL (Advanced - SQL Server, Snowflake)\n",
        "Data Analysis: Reporting, Dashboarding, Requirements Gathering, Data Validation\n",
        "Other: Communication, Training, Visual Design Principles\n",
        "\"\"\",\n",
        "    # output string (Serialized JSON evaluation)\n",
        "    \"\"\"{\n",
        "    \"qualification_level\": \"Highly Qualified\",\n",
        "    \"interview_likelihood_score\": \"High (9/10)\",\n",
        "    \"identified_mandatory_requirements\": [\n",
        "        \"3+ years experience focused on BI development or data visualization\",\n",
        "        \"Expert-level skills in Tableau and/or Power BI\",\n",
        "        \"Strong SQL skills\",\n",
        "        \"Experience gathering requirements from business users\",\n",
        "        \"Excellent visual design and communication skills\"\n",
        "    ],\n",
        "    \"identified_preferred_qualifications\": [\n",
        "        \"Experience training end-users\"\n",
        "    ],\n",
        "    \"justification_summary\": {\n",
        "        \"mandatory_requirements_met\": [\n",
        "            \"Meets experience requirement (4 years in BI roles).\",\n",
        "            \"Expertise in Tableau and Power BI explicitly stated and demonstrated through extensive dashboard development.\",\n",
        "            \"Strong/Advanced SQL skills shown via writing complex queries across different DBs.\",\n",
        "            \"Direct experience gathering requirements from various business teams.\",\n",
        "            \"Visual design principles listed as a skill, communication strong.\"\n",
        "        ],\n",
        "        \"mandatory_requirements_missing\": [],\n",
        "        \"preferred_qualifications_present\": [\n",
        "            \"Explicitly mentions conducting training sessions for end-users.\"\n",
        "        ],\n",
        "        \"key_strengths\": [\n",
        "            \"Deep expertise in core visualization tools (Tableau, Power BI).\",\n",
        "            \"Strong SQL skills across multiple database types.\",\n",
        "            \"Proven experience translating business needs into BI solutions.\",\n",
        "            \"Experience in the full report/dashboard lifecycle from requirements to training.\"\n",
        "        ],\n",
        "        \"potential_gaps\": [\n",
        "            \"Experience primarily focused on visualization/reporting, potentially less on broader data analysis if required beyond the JD scope.\"\n",
        "        ]\n",
        "    }\n",
        "}\"\"\"\n",
        "  ],\n",
        "\n",
        "  # Example 5: Data Engineer vs. Data Analyst Role (Mismatch - Overqualified/Different Focus)\n",
        "  [\n",
        "    # text_input string\n",
        "    \"\"\"Job Description:\n",
        "Role: Data Analyst\n",
        "Location: London, UK\n",
        "Responsibilities: Analyze sales and operational data to identify trends; Create reports and dashboards for management review (using Excel and Power BI); Support ad-hoc data requests from various departments; Clean and prepare data for analysis using SQL and potentially Python; Present findings clearly.\n",
        "Skills/Qualifications: 2+ years experience as a Data Analyst; Proficiency in SQL and Excel; Experience with Power BI; Good communication skills; Bachelor's degree preferred.\n",
        "\n",
        "--- Candidate Profile ---\n",
        "[Candidate Name]\n",
        "Senior Data Engineer | London, UK | [Phone Number] | [Email Address]\n",
        "\n",
        "SUMMARY\n",
        "Senior Data Engineer with 7 years of experience designing, building, and optimizing large-scale data pipelines and infrastructure on AWS. Expertise in Python, Spark, SQL, Airflow, and various database technologies (Redshift, PostgreSQL). Proven ability to handle terabytes of data and improve data processing efficiency. Seeking a challenging role focused on data infrastructure and architecture.\n",
        "\n",
        "EXPERIENCE\n",
        "Senior Data Engineer | [E-commerce Giant], London | 2019 – Present\n",
        "- Designed and implemented scalable ETL/ELT pipelines using Python, Spark, and Airflow on AWS (S3, Redshift, EMR).\n",
        "- Optimized data warehouse performance, reducing query times by 40%.\n",
        "- Developed data quality frameworks and monitoring systems.\n",
        "- Collaborated with data scientists and analysts to provide reliable data sources.\n",
        "- Mentored junior engineers.\n",
        "Data Engineer | [Media Company], London | 2017 – 2019\n",
        "- Built data pipelines using Python and SQL.\n",
        "- Managed PostgreSQL databases.\n",
        "- Supported data warehousing initiatives.\n",
        "\n",
        "EDUCATION\n",
        "Master of Engineering (MEng) - Computer Engineering | [University Name], UK | 2012 - 2017\n",
        "\n",
        "SKILLS\n",
        "Data Engineering: ETL/ELT Pipelines, Data Modelling, Data Warehousing, Performance Optimization, Data Quality Frameworks\n",
        "Programming/Databases: Python (Advanced - Spark, Airflow), SQL (Advanced), PostgreSQL, Redshift\n",
        "Cloud: AWS (S3, Redshift, EMR, Glue)\n",
        "Other: Mentoring, System Design\n",
        "\"\"\",\n",
        "    # output string (Serialized JSON evaluation)\n",
        "    \"\"\"{\n",
        "    \"qualification_level\": \"Not Qualified\",\n",
        "    \"interview_likelihood_score\": \"Low (1/10)\",\n",
        "    \"identified_mandatory_requirements\": [\n",
        "        \"2+ years experience as a Data Analyst\",\n",
        "        \"Proficiency in SQL and Excel\",\n",
        "        \"Experience with Power BI\",\n",
        "        \"Good communication skills\"\n",
        "    ],\n",
        "    \"identified_preferred_qualifications\": [\n",
        "        \"Bachelor's degree\"\n",
        "    ],\n",
        "    \"justification_summary\": {\n",
        "        \"mandatory_requirements_met\": [\n",
        "            \"Exceeds experience requirement (7 years, though in Data Engineering).\",\n",
        "            \"Advanced SQL proficiency implied.\",\n",
        "            \"Holds a Master's degree (exceeds preferred Bachelor's).\",\n",
        "            \"Communication skills likely present given senior role.\"\n",
        "        ],\n",
        "        \"mandatory_requirements_missing\": [\n",
        "            \"Lacks demonstrated experience specifically as a Data Analyst performing core analyst tasks (reporting, dashboarding for business users).\",\n",
        "            \"No mention of Excel or Power BI proficiency; focus is on engineering tools (Python, Spark, Airflow, AWS).\",\n",
        "            \"Role focus mismatch: Candidate is a Senior Data Engineer focused on infrastructure, pipelines, and optimization, while the role is a Data Analyst focused on reporting and business insights.\"\n",
        "        ],\n",
        "        \"preferred_qualifications_present\": [\n",
        "             \"Holds a Master's degree.\"\n",
        "        ],\n",
        "        \"key_strengths\": [\n",
        "            \"Deep technical expertise in data engineering tools and cloud platforms (Python, Spark, SQL, AWS).\",\n",
        "            \"Extensive experience building and optimizing data infrastructure.\",\n",
        "            \"Proven ability to handle large datasets.\",\n",
        "            \"Mentoring experience.\"\n",
        "        ],\n",
        "        \"potential_gaps\": [\n",
        "            \"Complete mismatch in role focus and primary responsibilities.\",\n",
        "            \"Lack of demonstrated skills in core analyst tools required by the JD (Excel, Power BI).\",\n",
        "            \"Candidate appears significantly overqualified in engineering terms and likely seeking a different type of role (as stated in summary).\"\n",
        "        ]\n",
        "    }\n",
        "}\"\"\"\n",
        "  ],\n",
        "\n",
        "  # Example 6: Analyst with R vs. Python Role (Tool Mismatch)\n",
        "  [\n",
        "    # text_input string\n",
        "    \"\"\"Job Description:\n",
        "Role: Data Analyst (Python Focus)\n",
        "Location: London, UK\n",
        "Responsibilities: Utilize Python (Pandas, NumPy, Scikit-learn) for complex data analysis, modeling, and automation; Develop and maintain analytical scripts; Build visualizations using Python libraries (Matplotlib, Seaborn, Plotly); Extract data using SQL; Collaborate with product teams to provide insights.\n",
        "Skills/Qualifications: 3+ years experience in data analysis; Strong Python programming skills for data analysis (Pandas, NumPy required); Experience with ML libraries (Scikit-learn) is a strong plus; Proficiency in SQL; Degree in quantitative field.\n",
        "\n",
        "--- Candidate Profile ---\n",
        "[Candidate Name]\n",
        "Data Analyst | London, UK | [Phone Number] | [Email Address]\n",
        "\n",
        "SUMMARY\n",
        "Data Analyst with 4 years experience in the healthcare sector, specializing in statistical analysis and reporting using R and SQL. Proven ability to derive insights from clinical trial data. Seeking a role applying analytical skills to new challenges. Adept at communicating findings to researchers and clinicians.\n",
        "\n",
        "EXPERIENCE\n",
        "Data Analyst | [Pharmaceutical Company], London | 2020 – Present\n",
        "- Performed statistical analysis on clinical trial data using R.\n",
        "- Developed R scripts for data cleaning, manipulation, and visualization (ggplot2).\n",
        "- Created reports summarizing trial outcomes for regulatory submissions.\n",
        "- Extracted data from clinical databases using SQL.\n",
        "- Collaborated with study managers and statisticians.\n",
        "Junior Analyst | [Healthcare Provider], London | 2019 – 2020\n",
        "- Assisted with data collection and entry.\n",
        "- Generated basic reports using Excel and R.\n",
        "\n",
        "EDUCATION\n",
        "Master of Science (MSc) - Biostatistics | [University Name], UK | 2017 - 2019\n",
        "Bachelor of Science (BSc) - Mathematics | [University Name], UK | 2014 - 2017\n",
        "\n",
        "SKILLS\n",
        "Data Analysis: Statistical Analysis (Clinical Trials), Reporting\n",
        "Programming/Databases: R (Advanced - ggplot2), SQL (Proficient), Excel (Intermediate)\n",
        "Visualization: R (ggplot2)\n",
        "Domain: Healthcare, Clinical Trials\n",
        "Other: Communication\n",
        "\"\"\",\n",
        "    # output string (Serialized JSON evaluation)\n",
        "    \"\"\"{\n",
        "    \"qualification_level\": \"Not Qualified\",\n",
        "    \"interview_likelihood_score\": \"Low (2/10)\",\n",
        "    \"identified_mandatory_requirements\": [\n",
        "        \"3+ years experience in data analysis\",\n",
        "        \"Strong Python programming skills for data analysis (Pandas, NumPy required)\",\n",
        "        \"Proficiency in SQL\",\n",
        "        \"Degree in quantitative field\"\n",
        "    ],\n",
        "    \"identified_preferred_qualifications\": [\n",
        "        \"Experience with ML libraries (Scikit-learn)\"\n",
        "    ],\n",
        "    \"justification_summary\": {\n",
        "        \"mandatory_requirements_met\": [\n",
        "            \"Meets experience requirement (4 years).\",\n",
        "            \"Proficient in SQL.\",\n",
        "            \"Holds relevant degrees (MSc Biostatistics, BSc Mathematics).\"\n",
        "        ],\n",
        "        \"mandatory_requirements_missing\": [\n",
        "            \"Critically lacks the required strong Python programming skills (Pandas, NumPy). Candidate's expertise is explicitly in R.\",\n",
        "            \"No demonstrated experience with Python visualization libraries (Matplotlib, Seaborn, Plotly).\"\n",
        "        ],\n",
        "        \"preferred_qualifications_present\": [\n",
        "             \"While not Python's Scikit-learn, the candidate has strong statistical analysis background which is related to ML.\"\n",
        "        ],\n",
        "        \"key_strengths\": [\n",
        "            \"Strong statistical analysis skills, particularly in R.\",\n",
        "            \"Experience in the healthcare/clinical trial domain.\",\n",
        "            \"Proficient in SQL.\",\n",
        "            \"Relevant quantitative degrees.\"\n",
        "        ],\n",
        "        \"potential_gaps\": [\n",
        "            \"Primary programming language (R) does not match the core requirement (Python).\",\n",
        "            \"Lack of experience with the specific Python libraries required (Pandas, NumPy, visualization tools).\",\n",
        "            \"No demonstrated ML experience using Python tools.\"\n",
        "        ]\n",
        "    }\n",
        "}\"\"\"\n",
        "  ],\n",
        "\n",
        "  # Example 7: General Analyst vs. Financial Analyst Role (Domain Mismatch)\n",
        "  [\n",
        "      # text_input string\n",
        "      \"\"\"Job Description:\n",
        "Role: Financial Data Analyst\n",
        "Location: London, UK\n",
        "Responsibilities: Analyze financial statements, investment performance, and market trends; Develop financial models for forecasting and valuation; Create reports and presentations for senior management and investors; Monitor financial KPIs and identify variances; Ensure data integrity in financial systems; Utilize SQL and advanced Excel for analysis.\n",
        "Skills/Qualifications: 3+ years experience in financial analysis or a related role; Strong understanding of accounting principles and financial statements; Advanced financial modeling skills in Excel; Proficiency in SQL; Experience with financial data sources (e.g., Bloomberg, Refinitiv) is a plus; Bachelor's degree in Finance, Accounting, or Economics.\n",
        "\n",
        "--- Candidate Profile ---\n",
        "[Candidate Name]\n",
        "Data Analyst | London, UK | [Phone Number] | [Email Address]\n",
        "\n",
        "SUMMARY\n",
        "Data Analyst with 4 years of experience analyzing operational and customer data for a large retail company. Expertise in SQL, Excel, and Tableau for reporting and identifying efficiency improvements. Seeking a challenging analytical role.\n",
        "\n",
        "EXPERIENCE\n",
        "Data Analyst | [Retail Company], London | 2020 – Present\n",
        "- Analyzed sales data to identify regional trends and optimize stock levels using SQL and Excel.\n",
        "- Developed Tableau dashboards to track customer purchasing behavior and loyalty program effectiveness.\n",
        "- Identified £1M+ in potential cost savings through analysis of supply chain data.\n",
        "- Prepared weekly operational performance reports for management.\n",
        "- Collaborated with marketing team on campaign analysis (using internal data).\n",
        "Junior Analyst | [Logistics Firm], London | 2019 – 2020\n",
        "- Supported reporting tasks using Excel.\n",
        "- Performed basic data cleaning and validation.\n",
        "\n",
        "EDUCATION\n",
        "Bachelor of Science (BSc) - Business Management | [University Name], UK | 2016 - 2019\n",
        "\n",
        "SKILLS\n",
        "Data Analysis: Operational Analysis, Customer Analysis, Reporting, Trend Analysis\n",
        "Programming/Databases: SQL (Proficient), Excel (Advanced)\n",
        "Visualization: Tableau (Advanced)\n",
        "Other: Communication, Problem Solving\n",
        "\"\"\",\n",
        "      # output string (Serialized JSON evaluation)\n",
        "      \"\"\"{\n",
        "    \"qualification_level\": \"Not Qualified\",\n",
        "    \"interview_likelihood_score\": \"Low (3/10)\",\n",
        "    \"identified_mandatory_requirements\": [\n",
        "        \"3+ years experience in financial analysis or related role\",\n",
        "        \"Strong understanding of accounting principles and financial statements\",\n",
        "        \"Advanced financial modeling skills in Excel\",\n",
        "        \"Proficiency in SQL\",\n",
        "        \"Bachelor's degree in Finance, Accounting, or Economics\"\n",
        "    ],\n",
        "    \"identified_preferred_qualifications\": [\n",
        "        \"Experience with financial data sources (e.g., Bloomberg, Refinitiv)\"\n",
        "    ],\n",
        "    \"justification_summary\": {\n",
        "        \"mandatory_requirements_met\": [\n",
        "            \"Meets 3+ years experience in data analysis (though not financial).\",\n",
        "            \"Proficient in SQL.\",\n",
        "            \"Advanced Excel skills demonstrated (though not specifically financial modeling).\"\n",
        "        ],\n",
        "        \"mandatory_requirements_missing\": [\n",
        "            \"Lacks demonstrated experience specifically in *financial* analysis.\",\n",
        "            \"No evidence of understanding accounting principles or financial statements.\",\n",
        "            \"No evidence of advanced *financial* modeling skills in Excel.\",\n",
        "            \"Degree is in Business Management, not Finance/Accounting/Economics.\",\n",
        "            \"No experience with financial data sources.\"\n",
        "        ],\n",
        "        \"preferred_qualifications_present\": [],\n",
        "        \"key_strengths\": [\n",
        "            \"Strong analytical skills demonstrated in operational/customer context.\",\n",
        "            \"Proficient in SQL and advanced Excel.\",\n",
        "            \"Advanced Tableau skills for visualization.\",\n",
        "            \"Proven ability to identify cost savings and analyze trends.\"\n",
        "        ],\n",
        "        \"potential_gaps\": [\n",
        "            \"Major gap in required financial domain knowledge (accounting, financial statements, financial modeling).\",\n",
        "            \"Educational background does not match specific requirements.\",\n",
        "            \"Lack of experience with typical financial data sources.\",\n",
        "            \"Experience is operational/customer-focused, not finance-focused.\"\n",
        "        ]\n",
        "    }\n",
        "}\"\"\"\n",
        "  ],\n",
        "\n",
        "  # Example 8: Analyst with Cloud vs. Role Requiring Cloud (Good Match)\n",
        "  [\n",
        "      # text_input string\n",
        "      \"\"\"Job Description:\n",
        "Role: Cloud Data Analyst\n",
        "Location: London, UK (Hybrid)\n",
        "Responsibilities: Analyze large datasets stored in cloud environments (AWS S3, Redshift/Snowflake); Use SQL and Python for data extraction, transformation, and analysis within the cloud; Build dashboards using cloud-compatible tools (e.g., QuickSight, Power BI); Monitor data pipelines and data quality in the cloud; Collaborate with data engineers and business stakeholders.\n",
        "Skills/Qualifications: 3+ years experience in data analysis; Strong SQL proficiency; Experience querying data in cloud data warehouses (Redshift, BigQuery, or Snowflake); Experience using Python for data analysis (Pandas); Familiarity with AWS, GCP, or Azure data services; Experience with cloud BI tools.\n",
        "\n",
        "--- Candidate Profile ---\n",
        "[Candidate Name]\n",
        "Data Analyst | London, UK | [Phone Number] | [Email Address]\n",
        "\n",
        "SUMMARY\n",
        "Data Analyst with 4 years experience leveraging cloud technologies (AWS) for data analysis and reporting. Proficient in SQL, Python, Redshift, and Power BI. Skilled in handling large datasets and delivering insights to support business strategy.\n",
        "\n",
        "EXPERIENCE\n",
        "Data Analyst | [Tech Company - AWS Partner], London | 2020 – Present\n",
        "- Analyzed user engagement data stored in AWS S3 and Redshift using SQL and Python (Pandas).\n",
        "- Developed ETL scripts in Python to process data for analysis environment.\n",
        "- Built Power BI dashboards connected to Redshift to visualize key product metrics.\n",
        "- Monitored data quality and pipeline performance using AWS CloudWatch.\n",
        "- Worked with product managers to define analysis requirements.\n",
        "Junior Data Analyst | [SaaS Company], London | 2019 – 2020\n",
        "- Extracted data from PostgreSQL using SQL.\n",
        "- Created reports in Excel.\n",
        "- Assisted with data cleaning tasks.\n",
        "\n",
        "EDUCATION\n",
        "Bachelor of Science (BSc) - Computer Science | [University Name], UK | 2016 - 2019\n",
        "\n",
        "SKILLS\n",
        "Data Analysis: Cloud Data Analysis, Reporting, Dashboarding, Data Quality Monitoring\n",
        "Programming/Databases: SQL (Advanced), Python (Pandas), Redshift, PostgreSQL\n",
        "Cloud: AWS (S3, Redshift, CloudWatch)\n",
        "Visualization: Power BI (Advanced)\n",
        "Other: Communication, Collaboration\n",
        "\"\"\",\n",
        "      # output string (Serialized JSON evaluation)\n",
        "      \"\"\"{\n",
        "    \"qualification_level\": \"Highly Qualified\",\n",
        "    \"interview_likelihood_score\": \"High (9/10)\",\n",
        "    \"identified_mandatory_requirements\": [\n",
        "        \"3+ years experience in data analysis\",\n",
        "        \"Strong SQL proficiency\",\n",
        "        \"Experience querying data in cloud data warehouses (Redshift, BigQuery, or Snowflake)\",\n",
        "        \"Experience using Python for data analysis (Pandas)\",\n",
        "        \"Familiarity with AWS, GCP, or Azure data services\",\n",
        "        \"Experience with cloud BI tools\"\n",
        "    ],\n",
        "    \"identified_preferred_qualifications\": [],\n",
        "    \"justification_summary\": {\n",
        "        \"mandatory_requirements_met\": [\n",
        "            \"Meets 3+ years experience requirement (4 years).\",\n",
        "            \"Strong/Advanced SQL proficiency demonstrated.\",\n",
        "            \"Direct experience querying data in Redshift (cloud data warehouse).\",\n",
        "            \"Experience using Python (Pandas) for analysis on cloud data.\",\n",
        "            \"Strong familiarity with AWS data services (S3, Redshift, CloudWatch).\",\n",
        "            \"Experience with Power BI connected to cloud data source (Redshift).\"\n",
        "        ],\n",
        "        \"mandatory_requirements_missing\": [],\n",
        "        \"preferred_qualifications_present\": [],\n",
        "        \"key_strengths\": [\n",
        "            \"Direct hands-on experience analyzing data within AWS cloud environment.\",\n",
        "            \"Proficiency in key tools required: SQL, Python (Pandas), Redshift, Power BI.\",\n",
        "            \"Experience includes ETL and data quality monitoring in the cloud.\",\n",
        "            \"Relevant Computer Science degree.\"\n",
        "        ],\n",
        "        \"potential_gaps\": [\n",
        "            \"Experience primarily focused on AWS; less explicit mention of GCP/Azure if those are critical.\",\n",
        "            \"No mention of BigQuery or Snowflake specifically, but Redshift experience is highly relevant.\"\n",
        "        ]\n",
        "    }\n",
        "}\"\"\"\n",
        "  ],\n",
        "\n",
        "  # Example 9: Senior Analyst vs. Senior Role (Good Match - Meets All)\n",
        "  [\n",
        "      # text_input string\n",
        "      \"\"\"Job Description:\n",
        "Role: Senior Data Analyst\n",
        "Location: London, UK\n",
        "Responsibilities: Lead complex analytical projects from requirements gathering to presentation; Develop predictive models and perform advanced statistical analysis; Mentor junior analysts; Design and implement A/B tests; Own reporting for a key business area using SQL, Python, and Power BI; Communicate insights and recommendations to senior leadership.\n",
        "Skills/Qualifications: 5+ years experience in data analysis; Expert SQL skills; Advanced Python skills for analysis and modeling (Pandas, NumPy, Scikit-learn); Proven experience with statistical analysis and predictive modeling; Expertise in Power BI or similar tool; Experience designing and analyzing A/B tests; Strong presentation and stakeholder management skills.\n",
        "\n",
        "--- Candidate Profile ---\n",
        "[Candidate Name]\n",
        "Senior Data Analyst | London, UK | [Phone Number] | [Email Address]\n",
        "\n",
        "SUMMARY\n",
        "Senior Data Analyst with 6 years of experience driving business decisions through advanced analytics, predictive modeling, and A/B testing. Expertise in SQL, Python (inc. Scikit-learn), and Power BI. Proven ability to lead projects, mentor analysts, and present findings to executive leadership. Seeking a challenging senior role.\n",
        "\n",
        "EXPERIENCE\n",
        "Senior Data Analyst | [E-commerce Company], London | 2020 – Present\n",
        "- Led development of customer churn prediction model using Python (Scikit-learn), reducing churn by 8%.\n",
        "- Designed and analyzed A/B tests for website optimizations, leading to a 15% uplift in conversion rate.\n",
        "- Owned all marketing analytics reporting, developing complex SQL queries and automated Power BI dashboards.\n",
        "- Mentored two junior data analysts, providing guidance on technical skills and project work.\n",
        "- Presented key findings and strategic recommendations to C-level executives monthly.\n",
        "Data Analyst | [Same E-commerce Company], London | 2018 – 2020\n",
        "- Conducted deep-dive analyses into customer behavior using SQL and Python.\n",
        "- Built initial versions of marketing performance dashboards in Power BI.\n",
        "- Supported A/B test setup and data collection.\n",
        "\n",
        "EDUCATION\n",
        "Master of Science (MSc) - Statistics | [University Name], UK | 2016 - 2018\n",
        "Bachelor of Science (BSc) - Mathematics | [University Name], UK | 2013 - 2016\n",
        "\n",
        "SKILLS\n",
        "Data Analysis: Advanced Statistical Analysis, Predictive Modeling (Churn), A/B Testing, Reporting, Dashboarding\n",
        "Programming/Databases: SQL (Expert), Python (Advanced - Pandas, NumPy, Scikit-learn)\n",
        "Visualization: Power BI (Expert)\n",
        "Other: Mentoring, Stakeholder Management (inc. C-level), Project Leadership, Communication, Presentation\n",
        "\"\"\",\n",
        "      # output string (Serialized JSON evaluation)\n",
        "      \"\"\"{\n",
        "    \"qualification_level\": \"Highly Qualified\",\n",
        "    \"interview_likelihood_score\": \"Very High (10/10)\",\n",
        "    \"identified_mandatory_requirements\": [\n",
        "        \"5+ years experience in data analysis\",\n",
        "        \"Expert SQL skills\",\n",
        "        \"Advanced Python skills for analysis and modeling (Pandas, NumPy, Scikit-learn)\",\n",
        "        \"Proven experience with statistical analysis and predictive modeling\",\n",
        "        \"Expertise in Power BI or similar tool\",\n",
        "        \"Experience designing and analyzing A/B tests\",\n",
        "        \"Strong presentation and stakeholder management skills\"\n",
        "    ],\n",
        "    \"identified_preferred_qualifications\": [\n",
        "        \"Experience mentoring junior analysts\",\n",
        "        \"Experience presenting to senior leadership\"\n",
        "    ],\n",
        "    \"justification_summary\": {\n",
        "        \"mandatory_requirements_met\": [\n",
        "            \"Meets experience requirement (6 years).\",\n",
        "            \"Expert SQL skills implied by owning reporting and developing complex queries.\",\n",
        "            \"Advanced Python skills including Scikit-learn demonstrated via predictive modeling.\",\n",
        "            \"Proven experience with statistical analysis (degree) and predictive modeling (churn model).\",\n",
        "            \"Expertise in Power BI demonstrated via owning reporting and automated dashboards.\",\n",
        "            \"Direct experience designing and analyzing A/B tests with positive results.\",\n",
        "            \"Strong presentation/stakeholder skills shown via presenting to C-level executives.\"\n",
        "        ],\n",
        "        \"mandatory_requirements_missing\": [],\n",
        "        \"preferred_qualifications_present\": [\n",
        "            \"Explicitly mentored two junior analysts.\",\n",
        "            \"Presented findings directly to C-level executives.\"\n",
        "        ],\n",
        "        \"key_strengths\": [\n",
        "            \"Direct, proven experience in all mandatory technical areas (SQL, Python/Scikit-learn, Power BI, A/B testing).\",\n",
        "            \"Strong track record of delivering impactful results (churn reduction, conversion uplift).\",\n",
        "            \"Demonstrated leadership and mentoring capabilities.\",\n",
        "            \"Experience communicating at the highest organizational levels.\",\n",
        "            \"Relevant advanced degree in Statistics.\"\n",
        "        ],\n",
        "        \"potential_gaps\": [\n",
        "            \"None obvious based on the provided job description.\"\n",
        "        ]\n",
        "    }\n",
        "}\"\"\"\n",
        "  ],\n",
        "\n",
        "  # Example 10: Analyst Lacking Specific Tool (e.g., Power BI) vs. Role Requiring It\n",
        "  [\n",
        "      # text_input string\n",
        "      \"\"\"Job Description:\n",
        "Role: Data Analyst\n",
        "Location: London, UK\n",
        "Responsibilities: Analyze operational data to identify inefficiencies; Create and maintain performance dashboards exclusively in Power BI; Extract and clean data using SQL; Support business users with ad-hoc reporting requests; Document data definitions and report logic.\n",
        "Skills/Qualifications: 2+ years experience in data analysis; Strong SQL skills; **Mandatory: Advanced Power BI skills (including DAX)**; Experience with data cleaning and validation; Good communication skills.\n",
        "\n",
        "--- Candidate Profile ---\n",
        "[Candidate Name]\n",
        "Data Analyst | London, UK | [Phone Number] | [Email Address]\n",
        "\n",
        "SUMMARY\n",
        "Data Analyst with 3 years experience focused on data extraction, cleaning, and analysis using SQL and Python. Skilled in identifying data quality issues and providing accurate datasets for reporting teams. Experience primarily with Tableau for visualization. Seeking a role involving data quality and analysis.\n",
        "\n",
        "EXPERIENCE\n",
        "Data Analyst | [Data Quality Consultancy], London | 2021 – Present\n",
        "- Developed SQL scripts to profile client data and identify quality issues (incompleteness, inconsistency).\n",
        "- Used Python (Pandas) for complex data cleaning and transformation tasks.\n",
        "- Created data quality reports and dashboards for clients using Tableau.\n",
        "- Documented data lineage and quality rules.\n",
        "- Liaised with client technical teams to understand data sources.\n",
        "Junior Analyst | [Insurance Company], London | 2020 – 2021\n",
        "- Supported data migration project, performing data validation using SQL and Excel.\n",
        "- Handled basic data extraction requests.\n",
        "\n",
        "EDUCATION\n",
        "Bachelor of Science (BSc) - Information Management | [University Name], UK | 2017 - 2020\n",
        "\n",
        "SKILLS\n",
        "Data Analysis: Data Quality Analysis, Data Cleaning, Data Validation, Reporting (via Tableau)\n",
        "Programming/Databases: SQL (Advanced), Python (Pandas), Excel (Intermediate)\n",
        "Visualization: Tableau (Advanced)\n",
        "Other: Documentation, Communication\n",
        "\"\"\",\n",
        "      # output string (Serialized JSON evaluation)\n",
        "      \"\"\"{\n",
        "    \"qualification_level\": \"Not Qualified\",\n",
        "    \"interview_likelihood_score\": \"Low (2/10)\",\n",
        "    \"identified_mandatory_requirements\": [\n",
        "        \"2+ years experience in data analysis\",\n",
        "        \"Strong SQL skills\",\n",
        "        \"Mandatory: Advanced Power BI skills (including DAX)\"\n",
        "    ],\n",
        "    \"identified_preferred_qualifications\": [\n",
        "        \"Experience with data cleaning and validation\",\n",
        "        \"Good communication skills\"\n",
        "    ],\n",
        "    \"justification_summary\": {\n",
        "        \"mandatory_requirements_met\": [\n",
        "            \"Meets experience requirement (3 years).\",\n",
        "            \"Strong/Advanced SQL skills demonstrated.\",\n",
        "            \"Experience with data cleaning and validation.\",\n",
        "            \"Good communication skills implied.\"\n",
        "        ],\n",
        "        \"mandatory_requirements_missing\": [\n",
        "            \"Critically lacks the mandatory Advanced Power BI skills (including DAX). Candidate's visualization experience is explicitly with Tableau.\"\n",
        "        ],\n",
        "        \"preferred_qualifications_present\": [\n",
        "             \"Experience with data cleaning and validation.\",\n",
        "             \"Good communication skills implied.\"\n",
        "        ],\n",
        "        \"key_strengths\": [\n",
        "            \"Strong SQL skills.\",\n",
        "            \"Experience in data quality analysis and data cleaning.\",\n",
        "            \"Proficiency in Python (Pandas).\",\n",
        "            \"Advanced skills in Tableau (alternative visualization tool).\"\n",
        "        ],\n",
        "        \"potential_gaps\": [\n",
        "            \"Complete lack of the mandatory tool (Power BI / DAX). Experience is with a different tool (Tableau).\"\n",
        "        ]\n",
        "    }\n",
        "}\"\"\"\n",
        "  ]\n",
        "\n",
        "]\n",
        "\n",
        "# You would then use this 'training_dataset' list in your fine-tuning script.\n",
        "# Remember to replace placeholder text like '[Full text of...]' with actual data."
      ],
      "metadata": {
        "id": "Nhvy3-WGKDXJ"
      },
      "execution_count": 17,
      "outputs": []
    },
    {
      "cell_type": "code",
      "execution_count": 18,
      "metadata": {
        "id": "baHjHh1oTTTC"
      },
      "outputs": [],
      "source": [
        "import random\n",
        "\n",
        "name = f'generate-num-{random.randint(0,10000)}'\n",
        "operation = genai.create_tuned_model(\n",
        "    # You can use a tuned model here too. Set `source_model=\"tunedModels/...\"`\n",
        "    source_model=base_model.name,\n",
        "    training_data=training_dataset,\n",
        "    id=name,\n",
        "    epoch_count=100,\n",
        "    batch_size=4,\n",
        "    learning_rate=0.001,\n",
        ")"
      ]
    },
    {
      "cell_type": "markdown",
      "metadata": {
        "id": "-As7ayWDK1w8"
      },
      "source": [
        "Your tuned model is immediately added to the list of tuned models, but its status is set to \"creating\" while the model is tuned."
      ]
    },
    {
      "cell_type": "code",
      "execution_count": 19,
      "metadata": {
        "id": "su64KgY4Uztj",
        "outputId": "7855f8b9-253b-4b01-f07e-eb8552417ef7",
        "colab": {
          "base_uri": "https://localhost:8080/",
          "height": 344
        }
      },
      "outputs": [
        {
          "output_type": "execute_result",
          "data": {
            "text/plain": [
              "TunedModel(name='tunedModels/generate-num-3057',\n",
              "           source_model='models/gemini-1.5-flash-001-tuning',\n",
              "           base_model='models/gemini-1.5-flash-001-tuning',\n",
              "           display_name='',\n",
              "           description='',\n",
              "           temperature=1.0,\n",
              "           top_p=0.95,\n",
              "           top_k=64,\n",
              "           state=<State.CREATING: 1>,\n",
              "           create_time=datetime.datetime(2025, 4, 18, 23, 50, 9, 493470, tzinfo=datetime.timezone.utc),\n",
              "           update_time=datetime.datetime(2025, 4, 18, 23, 50, 9, 493470, tzinfo=datetime.timezone.utc),\n",
              "           tuning_task=TuningTask(start_time=None,\n",
              "                                  complete_time=None,\n",
              "                                  snapshots=[],\n",
              "                                  hyperparameters=Hyperparameters(epoch_count=100,\n",
              "                                                                  batch_size=4,\n",
              "                                                                  learning_rate=0.001)),\n",
              "           reader_project_numbers=None)"
            ]
          },
          "metadata": {},
          "execution_count": 19
        }
      ],
      "source": [
        "model = genai.get_tuned_model(f'tunedModels/{name}')\n",
        "\n",
        "model"
      ]
    },
    {
      "cell_type": "code",
      "execution_count": 20,
      "metadata": {
        "id": "EUodUwZkKPi-",
        "outputId": "fe37b3f2-4620-437e-f3c4-8ba5498005ea",
        "colab": {
          "base_uri": "https://localhost:8080/"
        }
      },
      "outputs": [
        {
          "output_type": "execute_result",
          "data": {
            "text/plain": [
              "<State.CREATING: 1>"
            ]
          },
          "metadata": {},
          "execution_count": 20
        }
      ],
      "source": [
        "model.state"
      ]
    },
    {
      "cell_type": "markdown",
      "metadata": {
        "id": "Pi8X5vkQv-3_"
      },
      "source": [
        "### Check tuning progress"
      ]
    },
    {
      "cell_type": "markdown",
      "metadata": {
        "id": "tWI-vAh4LJIz"
      },
      "source": [
        "Use `metadata` to check the state:"
      ]
    },
    {
      "cell_type": "code",
      "execution_count": 21,
      "metadata": {
        "id": "g08vqtxYLMxT",
        "outputId": "06612767-8c21-434a-bfa7-9e83a2a6e32a",
        "colab": {
          "base_uri": "https://localhost:8080/"
        }
      },
      "outputs": [
        {
          "output_type": "execute_result",
          "data": {
            "text/plain": [
              "total_steps: 250\n",
              "tuned_model: \"tunedModels/generate-num-3057\""
            ]
          },
          "metadata": {},
          "execution_count": 21
        }
      ],
      "source": [
        "operation.metadata"
      ]
    },
    {
      "cell_type": "markdown",
      "metadata": {
        "id": "3lQ6gSMgK-kz"
      },
      "source": [
        "Wait for the training to finish using `operation.result()`, or `operation.wait_bar()`"
      ]
    },
    {
      "cell_type": "code",
      "execution_count": null,
      "metadata": {
        "id": "SOUowIv1HgSE",
        "outputId": "b7738852-df14-47ff-e176-7278ebc5accd",
        "colab": {
          "base_uri": "https://localhost:8080/",
          "height": 49,
          "referenced_widgets": [
            "3725725263b2453ea8318b47d4be0af6",
            "f4b5b25456624d889933cd34303ab5ef",
            "9be01fcdeab342e8a0c12265fcc1a52c",
            "888e4fa1f8d24f88aed4739175d8879b",
            "ffeea6de61514f7a9a3c5ed3a91a5609",
            "0082156085324b768cd0cbda846e84ef",
            "aa74951f204c4391a93ab6574e587094",
            "dc2398d3b9614df3b9ebae4ce5da7cfa",
            "3b98668fccfa4ad583ea15745f378ca6",
            "e8b40d5d01d64c57a0c6577705decffb",
            "b4e3dca125154649b94f0bd5ccf4954e"
          ]
        }
      },
      "outputs": [
        {
          "output_type": "display_data",
          "data": {
            "text/plain": [
              "  0%|          | 0/250 [00:00<?, ?it/s]"
            ],
            "application/vnd.jupyter.widget-view+json": {
              "version_major": 2,
              "version_minor": 0,
              "model_id": "3725725263b2453ea8318b47d4be0af6"
            }
          },
          "metadata": {}
        }
      ],
      "source": [
        "import time\n",
        "\n",
        "for status in operation.wait_bar():\n",
        "  time.sleep(30)"
      ]
    },
    {
      "cell_type": "markdown",
      "metadata": {
        "id": "4cg868HzqOx5"
      },
      "source": [
        "You can cancel your tuning job any time using the `cancel()` method. Uncomment the line below and run the code cell to cancel your job before it finishes."
      ]
    },
    {
      "cell_type": "code",
      "execution_count": null,
      "metadata": {
        "id": "oQuJ70_hqJi9"
      },
      "outputs": [],
      "source": [
        "# operation.cancel()"
      ]
    },
    {
      "cell_type": "markdown",
      "metadata": {
        "id": "lqiL0TWDqAPn"
      },
      "source": [
        "Once the tuning is complete, you can view the loss curve from the tuning results. The [loss curve](https://ai.google.dev/gemini-api/docs/model-tuning#recommended_configurations) shows how much the model's predictions deviate from the ideal outputs."
      ]
    },
    {
      "cell_type": "code",
      "execution_count": null,
      "metadata": {
        "id": "bIiG57xWLhP7"
      },
      "outputs": [],
      "source": [
        "import pandas as pd\n",
        "import seaborn as sns\n",
        "\n",
        "model = operation.result()\n",
        "\n",
        "snapshots = pd.DataFrame(model.tuning_task.snapshots)\n",
        "\n",
        "sns.lineplot(data=snapshots, x = 'epoch', y='mean_loss')\n"
      ]
    },
    {
      "cell_type": "markdown",
      "metadata": {
        "id": "rkoQTXb1vSBC"
      },
      "source": [
        "## Evaluate your model\n",
        "\n",
        "You can use the `genai.generate_content` method and specify the name of your model to test your model performance."
      ]
    },
    {
      "cell_type": "code",
      "execution_count": null,
      "metadata": {
        "id": "zO0YcuSyxydZ"
      },
      "outputs": [],
      "source": [
        "model = genai.GenerativeModel(model_name=f'tunedModels/{name}')"
      ]
    },
    {
      "cell_type": "code",
      "source": [
        "resume = \"\"\"\n",
        "Resume: ACCOUNT SERVICE REPRESENTATIVE II/TECH Summary Professional Account Manager trained in building strategic network ties and increasing salesrevenues. Cultivates and maintains strong customer relationships. Accomplishments Prospecting and cold callingExcellent communicatorStrong interpersonal skillsCustomer service-focusedTeam building expertiseTech-savvySkilled in MS OfficeProject managementProven sales track recordPromotional campaignsPowerPoint expertLeadership/communication skillsSkilled multi-taskerStrong organizational skillsStrong communicatorActive listening skillsExceptional customer service skillsSelf-motivated. Accomplishments. Named \"Employee of the Month\" in 02/2014 at C Spire.Winner of the \"C Spire Employee of the Quarter\" Award, 1st Quarter 2014.Maintained 100% Survey Rating entire tenure at Foshee Residential.Top 5 in New Accounts at Foshee Residential (2012)1st Place Southeast Regionals American Kickboxing Academy Tournament (3x) for ShogunMMA. Experience Account Service Representative II/Tech January 2012 to May 2014 Company Name － State Project Design & Development LeadMay 2014. Henderson-Thomas * Birmingham, Alabama. Discover, design and build new user experiences to drive the next generation of portals,applications and Web properties, including mobile. Design visually stunning, cutting-edgegraphics, animations and interactions for Web sites, portals and applications. Produce visualassets needed by development team. Contribute to building the Company brand on portals,applications, mobile apps and Web sites by executing user interface design consistently on alldeliverables. Refine low to high-fidelity wireframes into designs for the informationarchitecture, navigational models, process flows, page layout, information displays andinteractional components based on user research and in partnership with user experienceinteraction designers. Research and communicate trends and best-practices related to visualdesign and branding Every team member of the C Spire Crew is charged with bringing a strategic vision ofpersonalized wireless to life. Responsible for achieving sales goals and customer satisfactionstandards at designated retail locations. ASRs must demonstrate a strong aptitude andknowledge of all things technology personalized to each customer\\'s needs, and project anenergetic and upbeat professional image. This position is also responsible for integratingtechnology into the consumer\\'s life with amazing ease and effectiveness. ASR II is alsocharged with extra supervisory duties such as key holding and employee management andinventory auditing. Developing and maintaining in-store promotions, and coordinating withappropriate personnel Implementing and managing wireless sales events Provide positive. reinforcement and adult learning techniques to promote learning and skill improvement.Participated in \"Fiber to The Home\" installation\\'s receiving basic knowledge of Telephone,Cable and Internet home installation. Successfully increased positivity and smiling in theworkplace. Promoted group activities and continuously met my quota and passed customerexperience surveys and mystery shops. Gained promotion to level II (key holder/assistantmanager) position based on experience and performance. January 2010 to December 2012 Company Name － City , State Responsibilities Supervise and assists staff to ensure they are well informed on their positionresponsibilities and are performing at or above expectations. Managers with leasing staff areresponsible for agents overall performance including leasing numbers and entering trafficTrain new staff as well as provide on-going training and feedback on performance Ensuresthat building and office are properly staffed at all times Approves time off request for staffEnsures staff provides necessary customer relations for superior customer satisfactionRoutinely inspect properties to ensure they are safe and to determine if repairs ormaintenance are needed Monitors property vendors to ensure quality service Process workorders and monitors direction of property maintenance operations to ensure compliance withcompany standards Respond to tenant requests and issues in a timely manner Maintaincustomer service standards and resident relations Complete leasing/administrativepaperwork Accountable for market surveys Keeps lease occupancies and rents at highestdesired level Review delinquencies and assist in collections May oversee the preparation ofbudgets, financial statements and periodic reports on the status of various properties, leaseexpirations and related matters Ensure marketready condition of vacant units and managesturn-over Coordinate lease terminations, preliminary inspections, and apartment turn-overProvides tours of apartments and community to potential residents for purpose of leasingapartments Coordinate outreach marketing and advertising Conduct the leasing process withprospects in absence of leasing consultant Completes all other projects or requests as directedby Supervison. Martial Arts Instructor/CLient January 2008 to May 2012 Company Name － State Instruct students in varied martial arts techniques Prepare and distribute detailed monthly,quarterly and yearly reports to clients. Provide required information and documents toclients. Prepare reports of client meetings to record the details for future reference. Submitclient meeting reports to manager or supervisor. Provide support and assistance tomanagement teams. Audit all client liaison active accounts. Revise submission and accountsclosure applications. Develop liaison with client service and collection department to providerequired information and acquire necessary documents. Revise and distribute contractualreferrals. Provide feedback to management on areas of improvements. Recommendimplementation of enhanced processes. Plan and schedule monthly meetings with clients.Monitor client satisfaction through follow up on solving client issues and problems. Initiatemeasures to research and resolve client raised issues. Collaborate with clients to identify andimplement value added services.Grew customer base from 13 accounts to 34 accounts in 2years. Education Bachelor of Science : Business (Entrepreneurship) , 2014 Auburn University － City , State , United States GPA: GPA: 3.87 Business (Entrepreneurship) Coursework in Business Administration and ManagementCoursework in Marketing and CommunicationsCoursework in Public Relations GPA: 3.87 High School Diploma : Math & Science , 2009 Alabama School of Math & Science * Auburn － State , United States GPA: Student government representativeHiQ MemberHonor Student2009 Dean\\'s List Math & Science Student government representativeHiQ MemberHonor Student2009 Dean\\'s List Skills advertising, arts, auditing, basic, branding, Business Administration, C, Cable, consultant, client, clients, customer relations, client liaison, direction, financial statements, image, employee management, managing, marketing, market, meetings, office, Monitors, next, page layout, personnel, processes, Project Design & Development, promotion, Public Relations, quality, receiving, repairs, Research, retail, sales, strategic, supervisor, supervisory, Telephone, user interface design, vision, Web sites\\n\\n\n",
        "\n",
        "Job Description: **Important to note that this role is a Hybrid in-house role - NO remote opportunities available**Dear Fearless AF Marketing wizard,If you’ve been searching through countless lifeless job listings on Seek…Almost slipping into a deep coma from the “We’re looking for a highly experienced Marketing Strategist... blah blah blah” job adverts…And you’re looking for an exciting opportunity to join the fastest growing digital agency in the country…Then this will be the most important job listing you ever read.Here’s why…Firstly... stop what you\\'re doing and watch thisOkay lets continue... We are a full-service digital marketing agency that is growing FAST! For the last three years, we’ve been ranked as the fastest-growing digital agency…And the 17th fastest growing company in the country by The Australian Financial Review…We\\'re a world-class herd of digital strategists, direct response marketers, designers, growth hackers and developers, banded together to help you reach your growth goals.And this is just one of the reasons we’ve been named as one of the BEST PLACES TO WORK in Australia &amp; New Zealand by AFR and one of the Top 100 Coolest Companies in Australia by Anthill Magazine.Look, the list goes on and on…because we’ve seriously won more awards than you can shake a stick at…The Opportunity: You will be working directly with a portfolio of clients managing the communication and identifying improvements of their SEO and pay-per-click campaigns (Google AdWords, Facebook Ads &amp; YouTube Ads).Our team of specialists will build and manage the clients campaigns, allowing you to focus on diving deeper into each account to strategise how we can achieve even more ROI for the client. With our team of specialists at your disposal, we\\'re looking for an analytical mind that is results driven and dedicated to seeing their clients dominate their market.What you\\'ll do: Act as the main point of contact for the portfolio of online marketing clients, building a positive relationship as the representative for the company. Conduct strategy audits to identify further opportunities for your clients to scale their brand. Prepare monthly reports (with the super cool software we use) and make recommendations for ongoing improvements with the rest of the team. Analyse analytics to identify areas of opportunity and utilise conversion rate optimisation tactics to squeeze as much ROI as humanly possible out of each dollar spent. Educate clients on our SEO and PPC (Google AdWords, Facebook Ads &amp; YouTube Ads) strategy and tactics. Providing an exceptional customer experience with the ability to turn a negative into a positive. RequirementsOur dream candidate: Must have 1-2 years of agency experience in a similar role Intermediate knowledge and passion of digital marketing, including SEO, PPC (Google Ads, Facebook), Conversion Rate Optimisation, Sales Funnels and Growth Hacking. Intermediate level experience analysing data in Google Analytics, Shopify, Facebook and Google Ads platforms. A hunger for learning and enhancing your existing skills. Confident in up-selling and retaining clients. Highly organised and process-driven. Exceptional customer service is KEY! Google Analytics and Google Ads certified is a PLUS BenefitsThe juicy part: Salary plus generous uncapped commission structure - we want America\\'s best talent and reward as such. Extensive training and full support - we take training very seriously and will provide you with the industry\\'s very best training, giving you the knowledge and confidence needed for greatness. Amazing growth prospects and upward mobility in our fast-paced agency. INSANE events - You name it and we\\'ve probably done it. Company trips away - such as glamping, Bali &amp; Thailand. Hybrid Working - because sometimes you just want to wear your comfy pants and slippers. We move at a lightning pace! Only successful candidates will be contacted. If you haven\\'t been invited via email to complete an interview kit within 5 business days after submitting your application, unfortunately you haven\\'t been successful this time around!\n",
        "\"\"\""
      ],
      "metadata": {
        "id": "gHvEBa05Kk1u"
      },
      "execution_count": null,
      "outputs": []
    },
    {
      "cell_type": "code",
      "execution_count": null,
      "metadata": {
        "id": "UwGrrj6hS_x2"
      },
      "outputs": [],
      "source": [
        "result = model.generate_content(resume)\n",
        "result.text"
      ]
    },
    {
      "cell_type": "code",
      "source": [
        "stop"
      ],
      "metadata": {
        "id": "CLOmJoHmRwVy"
      },
      "execution_count": null,
      "outputs": []
    },
    {
      "cell_type": "code",
      "execution_count": null,
      "metadata": {
        "id": "YSNB2zjTx5SZ"
      },
      "outputs": [],
      "source": [
        "result = model.generate_content('123455')\n",
        "result.text"
      ]
    },
    {
      "cell_type": "code",
      "execution_count": null,
      "metadata": {
        "id": "Y2YVO-m0Ut9H"
      },
      "outputs": [],
      "source": [
        "result = model.generate_content('four')\n",
        "result.text"
      ]
    },
    {
      "cell_type": "code",
      "execution_count": null,
      "metadata": {
        "id": "h2MkTR0uTb6U"
      },
      "outputs": [],
      "source": [
        "result = model.generate_content('quatre') # French 4\n",
        "result.text                               # French 5 is \"cinq\""
      ]
    },
    {
      "cell_type": "code",
      "execution_count": null,
      "metadata": {
        "id": "OruCW1zETsZw"
      },
      "outputs": [],
      "source": [
        "result = model.generate_content('III')    # Roman numeral 3\n",
        "result.text                               # Roman numeral 4 is IV"
      ]
    },
    {
      "cell_type": "code",
      "execution_count": null,
      "metadata": {
        "id": "thDdSuUDUJOx"
      },
      "outputs": [],
      "source": [
        "result = model.generate_content('七')  # Japanese 7\n",
        "result.text                            # Japanese 8 is 八!"
      ]
    },
    {
      "cell_type": "markdown",
      "metadata": {
        "id": "HpIA1IFevQQR"
      },
      "source": [
        "It really seems to have picked up the task despite the limited examples, but \"next\" is a simple concept, see the [tuning guide](https://ai.google.dev/gemini-api/docs/model-tuning) for more guidance on improving performance."
      ]
    },
    {
      "cell_type": "markdown",
      "metadata": {
        "id": "nmuQCbTYwIOx"
      },
      "source": [
        "## Update the description\n",
        "\n",
        "You can update the description of your tuned model any time using the `genai.update_tuned_model` method."
      ]
    },
    {
      "cell_type": "code",
      "execution_count": null,
      "metadata": {
        "id": "9gAVuXT_wG3x"
      },
      "outputs": [],
      "source": [
        "genai.update_tuned_model(f'tunedModels/{name}', {\"description\":\"This is my model.\"});"
      ]
    },
    {
      "cell_type": "code",
      "execution_count": null,
      "metadata": {
        "id": "d-c3YerBxVYs"
      },
      "outputs": [],
      "source": [
        "model = genai.get_tuned_model(f'tunedModels/{name}')\n",
        "\n",
        "model.description"
      ]
    },
    {
      "cell_type": "markdown",
      "metadata": {
        "id": "i_TpwvBB4bQ7"
      },
      "source": [
        "## Delete the model\n",
        "\n",
        "You can clean up your tuned model list by deleting models you no longer need. Use the `genai.delete_tuned_model` method to delete a model. If you canceled any tuning jobs, you may want to delete those as their performance may be unpredictable."
      ]
    },
    {
      "cell_type": "code",
      "execution_count": null,
      "metadata": {
        "id": "cepfaUCvVGCo"
      },
      "outputs": [],
      "source": [
        "genai.delete_tuned_model(f'tunedModels/{name}')"
      ]
    },
    {
      "cell_type": "markdown",
      "metadata": {
        "id": "ljEssIshYDEr"
      },
      "source": [
        "The model no longer exists:"
      ]
    },
    {
      "cell_type": "code",
      "execution_count": null,
      "metadata": {
        "id": "kN_bkut_4ayL"
      },
      "outputs": [],
      "source": [
        "try:\n",
        "  m = genai.get_tuned_model(f'tunedModels/{name}')\n",
        "  print(m)\n",
        "except Exception as e:\n",
        "  print(f\"{type(e)}: {e}\")"
      ]
    }
  ],
  "metadata": {
    "colab": {
      "name": "python.ipynb",
      "toc_visible": true,
      "provenance": []
    },
    "kernelspec": {
      "display_name": "Python 3",
      "name": "python3"
    },
    "widgets": {
      "application/vnd.jupyter.widget-state+json": {
        "3725725263b2453ea8318b47d4be0af6": {
          "model_module": "@jupyter-widgets/controls",
          "model_name": "HBoxModel",
          "model_module_version": "1.5.0",
          "state": {
            "_dom_classes": [],
            "_model_module": "@jupyter-widgets/controls",
            "_model_module_version": "1.5.0",
            "_model_name": "HBoxModel",
            "_view_count": null,
            "_view_module": "@jupyter-widgets/controls",
            "_view_module_version": "1.5.0",
            "_view_name": "HBoxView",
            "box_style": "",
            "children": [
              "IPY_MODEL_f4b5b25456624d889933cd34303ab5ef",
              "IPY_MODEL_9be01fcdeab342e8a0c12265fcc1a52c",
              "IPY_MODEL_888e4fa1f8d24f88aed4739175d8879b"
            ],
            "layout": "IPY_MODEL_ffeea6de61514f7a9a3c5ed3a91a5609"
          }
        },
        "f4b5b25456624d889933cd34303ab5ef": {
          "model_module": "@jupyter-widgets/controls",
          "model_name": "HTMLModel",
          "model_module_version": "1.5.0",
          "state": {
            "_dom_classes": [],
            "_model_module": "@jupyter-widgets/controls",
            "_model_module_version": "1.5.0",
            "_model_name": "HTMLModel",
            "_view_count": null,
            "_view_module": "@jupyter-widgets/controls",
            "_view_module_version": "1.5.0",
            "_view_name": "HTMLView",
            "description": "",
            "description_tooltip": null,
            "layout": "IPY_MODEL_0082156085324b768cd0cbda846e84ef",
            "placeholder": "​",
            "style": "IPY_MODEL_aa74951f204c4391a93ab6574e587094",
            "value": "  0%"
          }
        },
        "9be01fcdeab342e8a0c12265fcc1a52c": {
          "model_module": "@jupyter-widgets/controls",
          "model_name": "FloatProgressModel",
          "model_module_version": "1.5.0",
          "state": {
            "_dom_classes": [],
            "_model_module": "@jupyter-widgets/controls",
            "_model_module_version": "1.5.0",
            "_model_name": "FloatProgressModel",
            "_view_count": null,
            "_view_module": "@jupyter-widgets/controls",
            "_view_module_version": "1.5.0",
            "_view_name": "ProgressView",
            "bar_style": "",
            "description": "",
            "description_tooltip": null,
            "layout": "IPY_MODEL_dc2398d3b9614df3b9ebae4ce5da7cfa",
            "max": 250,
            "min": 0,
            "orientation": "horizontal",
            "style": "IPY_MODEL_3b98668fccfa4ad583ea15745f378ca6",
            "value": 0
          }
        },
        "888e4fa1f8d24f88aed4739175d8879b": {
          "model_module": "@jupyter-widgets/controls",
          "model_name": "HTMLModel",
          "model_module_version": "1.5.0",
          "state": {
            "_dom_classes": [],
            "_model_module": "@jupyter-widgets/controls",
            "_model_module_version": "1.5.0",
            "_model_name": "HTMLModel",
            "_view_count": null,
            "_view_module": "@jupyter-widgets/controls",
            "_view_module_version": "1.5.0",
            "_view_name": "HTMLView",
            "description": "",
            "description_tooltip": null,
            "layout": "IPY_MODEL_e8b40d5d01d64c57a0c6577705decffb",
            "placeholder": "​",
            "style": "IPY_MODEL_b4e3dca125154649b94f0bd5ccf4954e",
            "value": " 0/250 [00:01&lt;?, ?it/s]"
          }
        },
        "ffeea6de61514f7a9a3c5ed3a91a5609": {
          "model_module": "@jupyter-widgets/base",
          "model_name": "LayoutModel",
          "model_module_version": "1.2.0",
          "state": {
            "_model_module": "@jupyter-widgets/base",
            "_model_module_version": "1.2.0",
            "_model_name": "LayoutModel",
            "_view_count": null,
            "_view_module": "@jupyter-widgets/base",
            "_view_module_version": "1.2.0",
            "_view_name": "LayoutView",
            "align_content": null,
            "align_items": null,
            "align_self": null,
            "border": null,
            "bottom": null,
            "display": null,
            "flex": null,
            "flex_flow": null,
            "grid_area": null,
            "grid_auto_columns": null,
            "grid_auto_flow": null,
            "grid_auto_rows": null,
            "grid_column": null,
            "grid_gap": null,
            "grid_row": null,
            "grid_template_areas": null,
            "grid_template_columns": null,
            "grid_template_rows": null,
            "height": null,
            "justify_content": null,
            "justify_items": null,
            "left": null,
            "margin": null,
            "max_height": null,
            "max_width": null,
            "min_height": null,
            "min_width": null,
            "object_fit": null,
            "object_position": null,
            "order": null,
            "overflow": null,
            "overflow_x": null,
            "overflow_y": null,
            "padding": null,
            "right": null,
            "top": null,
            "visibility": null,
            "width": null
          }
        },
        "0082156085324b768cd0cbda846e84ef": {
          "model_module": "@jupyter-widgets/base",
          "model_name": "LayoutModel",
          "model_module_version": "1.2.0",
          "state": {
            "_model_module": "@jupyter-widgets/base",
            "_model_module_version": "1.2.0",
            "_model_name": "LayoutModel",
            "_view_count": null,
            "_view_module": "@jupyter-widgets/base",
            "_view_module_version": "1.2.0",
            "_view_name": "LayoutView",
            "align_content": null,
            "align_items": null,
            "align_self": null,
            "border": null,
            "bottom": null,
            "display": null,
            "flex": null,
            "flex_flow": null,
            "grid_area": null,
            "grid_auto_columns": null,
            "grid_auto_flow": null,
            "grid_auto_rows": null,
            "grid_column": null,
            "grid_gap": null,
            "grid_row": null,
            "grid_template_areas": null,
            "grid_template_columns": null,
            "grid_template_rows": null,
            "height": null,
            "justify_content": null,
            "justify_items": null,
            "left": null,
            "margin": null,
            "max_height": null,
            "max_width": null,
            "min_height": null,
            "min_width": null,
            "object_fit": null,
            "object_position": null,
            "order": null,
            "overflow": null,
            "overflow_x": null,
            "overflow_y": null,
            "padding": null,
            "right": null,
            "top": null,
            "visibility": null,
            "width": null
          }
        },
        "aa74951f204c4391a93ab6574e587094": {
          "model_module": "@jupyter-widgets/controls",
          "model_name": "DescriptionStyleModel",
          "model_module_version": "1.5.0",
          "state": {
            "_model_module": "@jupyter-widgets/controls",
            "_model_module_version": "1.5.0",
            "_model_name": "DescriptionStyleModel",
            "_view_count": null,
            "_view_module": "@jupyter-widgets/base",
            "_view_module_version": "1.2.0",
            "_view_name": "StyleView",
            "description_width": ""
          }
        },
        "dc2398d3b9614df3b9ebae4ce5da7cfa": {
          "model_module": "@jupyter-widgets/base",
          "model_name": "LayoutModel",
          "model_module_version": "1.2.0",
          "state": {
            "_model_module": "@jupyter-widgets/base",
            "_model_module_version": "1.2.0",
            "_model_name": "LayoutModel",
            "_view_count": null,
            "_view_module": "@jupyter-widgets/base",
            "_view_module_version": "1.2.0",
            "_view_name": "LayoutView",
            "align_content": null,
            "align_items": null,
            "align_self": null,
            "border": null,
            "bottom": null,
            "display": null,
            "flex": null,
            "flex_flow": null,
            "grid_area": null,
            "grid_auto_columns": null,
            "grid_auto_flow": null,
            "grid_auto_rows": null,
            "grid_column": null,
            "grid_gap": null,
            "grid_row": null,
            "grid_template_areas": null,
            "grid_template_columns": null,
            "grid_template_rows": null,
            "height": null,
            "justify_content": null,
            "justify_items": null,
            "left": null,
            "margin": null,
            "max_height": null,
            "max_width": null,
            "min_height": null,
            "min_width": null,
            "object_fit": null,
            "object_position": null,
            "order": null,
            "overflow": null,
            "overflow_x": null,
            "overflow_y": null,
            "padding": null,
            "right": null,
            "top": null,
            "visibility": null,
            "width": null
          }
        },
        "3b98668fccfa4ad583ea15745f378ca6": {
          "model_module": "@jupyter-widgets/controls",
          "model_name": "ProgressStyleModel",
          "model_module_version": "1.5.0",
          "state": {
            "_model_module": "@jupyter-widgets/controls",
            "_model_module_version": "1.5.0",
            "_model_name": "ProgressStyleModel",
            "_view_count": null,
            "_view_module": "@jupyter-widgets/base",
            "_view_module_version": "1.2.0",
            "_view_name": "StyleView",
            "bar_color": null,
            "description_width": ""
          }
        },
        "e8b40d5d01d64c57a0c6577705decffb": {
          "model_module": "@jupyter-widgets/base",
          "model_name": "LayoutModel",
          "model_module_version": "1.2.0",
          "state": {
            "_model_module": "@jupyter-widgets/base",
            "_model_module_version": "1.2.0",
            "_model_name": "LayoutModel",
            "_view_count": null,
            "_view_module": "@jupyter-widgets/base",
            "_view_module_version": "1.2.0",
            "_view_name": "LayoutView",
            "align_content": null,
            "align_items": null,
            "align_self": null,
            "border": null,
            "bottom": null,
            "display": null,
            "flex": null,
            "flex_flow": null,
            "grid_area": null,
            "grid_auto_columns": null,
            "grid_auto_flow": null,
            "grid_auto_rows": null,
            "grid_column": null,
            "grid_gap": null,
            "grid_row": null,
            "grid_template_areas": null,
            "grid_template_columns": null,
            "grid_template_rows": null,
            "height": null,
            "justify_content": null,
            "justify_items": null,
            "left": null,
            "margin": null,
            "max_height": null,
            "max_width": null,
            "min_height": null,
            "min_width": null,
            "object_fit": null,
            "object_position": null,
            "order": null,
            "overflow": null,
            "overflow_x": null,
            "overflow_y": null,
            "padding": null,
            "right": null,
            "top": null,
            "visibility": null,
            "width": null
          }
        },
        "b4e3dca125154649b94f0bd5ccf4954e": {
          "model_module": "@jupyter-widgets/controls",
          "model_name": "DescriptionStyleModel",
          "model_module_version": "1.5.0",
          "state": {
            "_model_module": "@jupyter-widgets/controls",
            "_model_module_version": "1.5.0",
            "_model_name": "DescriptionStyleModel",
            "_view_count": null,
            "_view_module": "@jupyter-widgets/base",
            "_view_module_version": "1.2.0",
            "_view_name": "StyleView",
            "description_width": ""
          }
        }
      }
    }
  },
  "nbformat": 4,
  "nbformat_minor": 0
}